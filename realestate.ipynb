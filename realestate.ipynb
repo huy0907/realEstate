{
 "cells": [
  {
   "cell_type": "code",
   "execution_count": 237,
   "metadata": {},
   "outputs": [],
   "source": [
    "import pandas as pd\n",
    "import numpy as np"
   ]
  },
  {
   "cell_type": "code",
   "execution_count": 214,
   "metadata": {},
   "outputs": [],
   "source": [
    "data = pd.read_csv('./offical_data.csv')"
   ]
  },
  {
   "cell_type": "code",
   "execution_count": 215,
   "metadata": {},
   "outputs": [
    {
     "data": {
      "text/plain": [
       "(16344, 16)"
      ]
     },
     "execution_count": 215,
     "metadata": {},
     "output_type": "execute_result"
    }
   ],
   "source": [
    "data.shape"
   ]
  },
  {
   "cell_type": "code",
   "execution_count": 216,
   "metadata": {},
   "outputs": [
    {
     "name": "stdout",
     "output_type": "stream",
     "text": [
      "<class 'pandas.core.frame.DataFrame'>\n",
      "RangeIndex: 16344 entries, 0 to 16343\n",
      "Data columns (total 16 columns):\n",
      "address              16344 non-null object\n",
      "balcony_direction    9184 non-null object\n",
      "bedroom              15234 non-null object\n",
      "direction            8161 non-null object\n",
      "furniture            9370 non-null object\n",
      "investor             0 non-null float64\n",
      "law_doc              5381 non-null object\n",
      "loc_link             16344 non-null object\n",
      "location             16344 non-null object\n",
      "name                 16344 non-null object\n",
      "price                16344 non-null object\n",
      "project              16344 non-null object\n",
      "square               15840 non-null object\n",
      "time                 16344 non-null object\n",
      "toilet               12101 non-null object\n",
      "types                16344 non-null object\n",
      "dtypes: float64(1), object(15)\n",
      "memory usage: 2.0+ MB\n"
     ]
    }
   ],
   "source": [
    "data.info()\n",
    "data = data.drop_duplicates()"
   ]
  },
  {
   "cell_type": "code",
   "execution_count": 217,
   "metadata": {},
   "outputs": [
    {
     "data": {
      "text/html": [
       "<div>\n",
       "<style scoped>\n",
       "    .dataframe tbody tr th:only-of-type {\n",
       "        vertical-align: middle;\n",
       "    }\n",
       "\n",
       "    .dataframe tbody tr th {\n",
       "        vertical-align: top;\n",
       "    }\n",
       "\n",
       "    .dataframe thead th {\n",
       "        text-align: right;\n",
       "    }\n",
       "</style>\n",
       "<table border=\"1\" class=\"dataframe\">\n",
       "  <thead>\n",
       "    <tr style=\"text-align: right;\">\n",
       "      <th></th>\n",
       "      <th>address</th>\n",
       "      <th>balcony_direction</th>\n",
       "      <th>bedroom</th>\n",
       "      <th>direction</th>\n",
       "      <th>furniture</th>\n",
       "      <th>investor</th>\n",
       "      <th>law_doc</th>\n",
       "      <th>loc_link</th>\n",
       "      <th>location</th>\n",
       "      <th>name</th>\n",
       "      <th>price</th>\n",
       "      <th>project</th>\n",
       "      <th>square</th>\n",
       "      <th>time</th>\n",
       "      <th>toilet</th>\n",
       "      <th>types</th>\n",
       "    </tr>\n",
       "  </thead>\n",
       "  <tbody>\n",
       "    <tr>\n",
       "      <td>0</td>\n",
       "      <td>Dự án D’. Le Roi Soleil - Quảng An, Đường Xuân...</td>\n",
       "      <td>NaN</td>\n",
       "      <td>3 PN</td>\n",
       "      <td>NaN</td>\n",
       "      <td>Nội thất cơ bản.</td>\n",
       "      <td>NaN</td>\n",
       "      <td>NaN</td>\n",
       "      <td>https://www.google.com/maps/embed/v1/place?q=2...</td>\n",
       "      <td>21.0648994445801,105.827049255371</td>\n",
       "      <td>TÔI CẦN BÁN GẤP CĂN HỘ 3PN 111M2 VÀ 146M2 QUẢ...</td>\n",
       "      <td>6.6 tỷ</td>\n",
       "      <td>D’. Le Roi Soleil - Quảng An</td>\n",
       "      <td>111 m²</td>\n",
       "      <td>09/10/2020</td>\n",
       "      <td>NaN</td>\n",
       "      <td>Tin Vip 1</td>\n",
       "    </tr>\n",
       "    <tr>\n",
       "      <td>1</td>\n",
       "      <td>Green Park Trần Thủ Độ, số 1, Đường Trần Thủ Đ...</td>\n",
       "      <td>Đông-Nam</td>\n",
       "      <td>3 PN</td>\n",
       "      <td>NaN</td>\n",
       "      <td>NaN</td>\n",
       "      <td>NaN</td>\n",
       "      <td>NaN</td>\n",
       "      <td>https://www.google.com/maps/embed/v1/place?q=2...</td>\n",
       "      <td>20.9605541229248,105.845962524414</td>\n",
       "      <td>BÁN GẤP CHUNG CƯ GREEN PARK QUẬN HOÀNG MAI 3P...</td>\n",
       "      <td>1.9 tỷ</td>\n",
       "      <td>Green Park Trần Thủ Độ</td>\n",
       "      <td>85 m²</td>\n",
       "      <td>06/10/2020</td>\n",
       "      <td>NaN</td>\n",
       "      <td>Tin Vip 1</td>\n",
       "    </tr>\n",
       "    <tr>\n",
       "      <td>2</td>\n",
       "      <td>Dự án THT New City, Hoài Đức, Hà Nội</td>\n",
       "      <td>Đông-Nam</td>\n",
       "      <td>2 PN</td>\n",
       "      <td>Tây-Bắc</td>\n",
       "      <td>Nội thất cơ bản : sàn ghạch ceramic, tường trá...</td>\n",
       "      <td>NaN</td>\n",
       "      <td>sổ hồng lâu dài</td>\n",
       "      <td>https://www.google.com/maps/embed/v1/place?q=2...</td>\n",
       "      <td>21.06287956237793,105.72223663330078</td>\n",
       "      <td>CHỈ 300TR ĐÃ CÓ CĂN HỘ 70M2 HTLS 5% / NĂM . N...</td>\n",
       "      <td>Thỏa thuận</td>\n",
       "      <td>THT New City</td>\n",
       "      <td>70 m²</td>\n",
       "      <td>09/10/2020</td>\n",
       "      <td>2 (phòng)</td>\n",
       "      <td>Tin Vip 1</td>\n",
       "    </tr>\n",
       "    <tr>\n",
       "      <td>3</td>\n",
       "      <td>Dự án Sunshine City, Đường Phạm Văn Đồng, Phườ...</td>\n",
       "      <td>NaN</td>\n",
       "      <td>3 PN</td>\n",
       "      <td>NaN</td>\n",
       "      <td>Full nội thất liền tường cao cấp: - Sàn gỗ trầ...</td>\n",
       "      <td>NaN</td>\n",
       "      <td>Sổ hồng</td>\n",
       "      <td>https://www.google.com/maps/embed/v1/place?q=2...</td>\n",
       "      <td>21.0919170379639,105.785003662109</td>\n",
       "      <td>SUNSHINE CITY CHÍNH SÁCH BÁN HÀNG THÁNG 10 CH...</td>\n",
       "      <td>4 tỷ</td>\n",
       "      <td>Sunshine City</td>\n",
       "      <td>116.7 m²</td>\n",
       "      <td>05/10/2020</td>\n",
       "      <td>2 (phòng)</td>\n",
       "      <td>Tin Vip đặc biệt</td>\n",
       "    </tr>\n",
       "    <tr>\n",
       "      <td>4</td>\n",
       "      <td>Imperia Sky Garden, 423, Đường Minh Khai, Phườ...</td>\n",
       "      <td>NaN</td>\n",
       "      <td>2 PN</td>\n",
       "      <td>NaN</td>\n",
       "      <td>NaN</td>\n",
       "      <td>NaN</td>\n",
       "      <td>NaN</td>\n",
       "      <td>https://www.google.com/maps/embed/v1/place?q=2...</td>\n",
       "      <td>20.9984378814697,105.866737365723</td>\n",
       "      <td>BÁN CẮT LỖ CĂN HỘ ĐÃ BÀN GIAO 423 MINH KHAI I...</td>\n",
       "      <td>2.6 tỷ</td>\n",
       "      <td>Imperia Sky Garden</td>\n",
       "      <td>80 m²</td>\n",
       "      <td>09/10/2020</td>\n",
       "      <td>2 (phòng)</td>\n",
       "      <td>Tin Vip 1</td>\n",
       "    </tr>\n",
       "  </tbody>\n",
       "</table>\n",
       "</div>"
      ],
      "text/plain": [
       "                                             address balcony_direction  \\\n",
       "0  Dự án D’. Le Roi Soleil - Quảng An, Đường Xuân...               NaN   \n",
       "1  Green Park Trần Thủ Độ, số 1, Đường Trần Thủ Đ...          Đông-Nam   \n",
       "2               Dự án THT New City, Hoài Đức, Hà Nội          Đông-Nam   \n",
       "3  Dự án Sunshine City, Đường Phạm Văn Đồng, Phườ...               NaN   \n",
       "4  Imperia Sky Garden, 423, Đường Minh Khai, Phườ...               NaN   \n",
       "\n",
       "  bedroom direction                                          furniture  \\\n",
       "0    3 PN       NaN                                   Nội thất cơ bản.   \n",
       "1    3 PN       NaN                                                NaN   \n",
       "2    2 PN   Tây-Bắc  Nội thất cơ bản : sàn ghạch ceramic, tường trá...   \n",
       "3    3 PN       NaN  Full nội thất liền tường cao cấp: - Sàn gỗ trầ...   \n",
       "4    2 PN       NaN                                                NaN   \n",
       "\n",
       "   investor          law_doc  \\\n",
       "0       NaN              NaN   \n",
       "1       NaN              NaN   \n",
       "2       NaN  sổ hồng lâu dài   \n",
       "3       NaN          Sổ hồng   \n",
       "4       NaN              NaN   \n",
       "\n",
       "                                            loc_link  \\\n",
       "0  https://www.google.com/maps/embed/v1/place?q=2...   \n",
       "1  https://www.google.com/maps/embed/v1/place?q=2...   \n",
       "2  https://www.google.com/maps/embed/v1/place?q=2...   \n",
       "3  https://www.google.com/maps/embed/v1/place?q=2...   \n",
       "4  https://www.google.com/maps/embed/v1/place?q=2...   \n",
       "\n",
       "                               location  \\\n",
       "0     21.0648994445801,105.827049255371   \n",
       "1     20.9605541229248,105.845962524414   \n",
       "2  21.06287956237793,105.72223663330078   \n",
       "3     21.0919170379639,105.785003662109   \n",
       "4     20.9984378814697,105.866737365723   \n",
       "\n",
       "                                                name       price  \\\n",
       "0   TÔI CẦN BÁN GẤP CĂN HỘ 3PN 111M2 VÀ 146M2 QUẢ...      6.6 tỷ   \n",
       "1   BÁN GẤP CHUNG CƯ GREEN PARK QUẬN HOÀNG MAI 3P...      1.9 tỷ   \n",
       "2   CHỈ 300TR ĐÃ CÓ CĂN HỘ 70M2 HTLS 5% / NĂM . N...  Thỏa thuận   \n",
       "3   SUNSHINE CITY CHÍNH SÁCH BÁN HÀNG THÁNG 10 CH...        4 tỷ   \n",
       "4   BÁN CẮT LỖ CĂN HỘ ĐÃ BÀN GIAO 423 MINH KHAI I...      2.6 tỷ   \n",
       "\n",
       "                        project    square        time     toilet  \\\n",
       "0  D’. Le Roi Soleil - Quảng An    111 m²  09/10/2020        NaN   \n",
       "1        Green Park Trần Thủ Độ     85 m²  06/10/2020        NaN   \n",
       "2                  THT New City     70 m²  09/10/2020  2 (phòng)   \n",
       "3                 Sunshine City  116.7 m²  05/10/2020  2 (phòng)   \n",
       "4            Imperia Sky Garden     80 m²  09/10/2020  2 (phòng)   \n",
       "\n",
       "              types  \n",
       "0         Tin Vip 1  \n",
       "1         Tin Vip 1  \n",
       "2         Tin Vip 1  \n",
       "3  Tin Vip đặc biệt  \n",
       "4         Tin Vip 1  "
      ]
     },
     "execution_count": 217,
     "metadata": {},
     "output_type": "execute_result"
    }
   ],
   "source": [
    "data.head()\n"
   ]
  },
  {
   "cell_type": "code",
   "execution_count": 218,
   "metadata": {},
   "outputs": [],
   "source": [
    "data = data[['time', 'address', 'direction', 'square', 'types', 'toilet', 'bedroom','balcony_direction', 'project' ,'location', 'price' ]].copy()"
   ]
  },
  {
   "cell_type": "code",
   "execution_count": 219,
   "metadata": {},
   "outputs": [
    {
     "data": {
      "text/html": [
       "<div>\n",
       "<style scoped>\n",
       "    .dataframe tbody tr th:only-of-type {\n",
       "        vertical-align: middle;\n",
       "    }\n",
       "\n",
       "    .dataframe tbody tr th {\n",
       "        vertical-align: top;\n",
       "    }\n",
       "\n",
       "    .dataframe thead th {\n",
       "        text-align: right;\n",
       "    }\n",
       "</style>\n",
       "<table border=\"1\" class=\"dataframe\">\n",
       "  <thead>\n",
       "    <tr style=\"text-align: right;\">\n",
       "      <th></th>\n",
       "      <th>time</th>\n",
       "      <th>address</th>\n",
       "      <th>direction</th>\n",
       "      <th>square</th>\n",
       "      <th>types</th>\n",
       "      <th>toilet</th>\n",
       "      <th>bedroom</th>\n",
       "      <th>balcony_direction</th>\n",
       "      <th>project</th>\n",
       "      <th>location</th>\n",
       "      <th>price</th>\n",
       "    </tr>\n",
       "  </thead>\n",
       "  <tbody>\n",
       "    <tr>\n",
       "      <td>0</td>\n",
       "      <td>09/10/2020</td>\n",
       "      <td>Dự án D’. Le Roi Soleil - Quảng An, Đường Xuân...</td>\n",
       "      <td>NaN</td>\n",
       "      <td>111 m²</td>\n",
       "      <td>Tin Vip 1</td>\n",
       "      <td>NaN</td>\n",
       "      <td>3 PN</td>\n",
       "      <td>NaN</td>\n",
       "      <td>D’. Le Roi Soleil - Quảng An</td>\n",
       "      <td>21.0648994445801,105.827049255371</td>\n",
       "      <td>6.6 tỷ</td>\n",
       "    </tr>\n",
       "    <tr>\n",
       "      <td>1</td>\n",
       "      <td>06/10/2020</td>\n",
       "      <td>Green Park Trần Thủ Độ, số 1, Đường Trần Thủ Đ...</td>\n",
       "      <td>NaN</td>\n",
       "      <td>85 m²</td>\n",
       "      <td>Tin Vip 1</td>\n",
       "      <td>NaN</td>\n",
       "      <td>3 PN</td>\n",
       "      <td>Đông-Nam</td>\n",
       "      <td>Green Park Trần Thủ Độ</td>\n",
       "      <td>20.9605541229248,105.845962524414</td>\n",
       "      <td>1.9 tỷ</td>\n",
       "    </tr>\n",
       "    <tr>\n",
       "      <td>2</td>\n",
       "      <td>09/10/2020</td>\n",
       "      <td>Dự án THT New City, Hoài Đức, Hà Nội</td>\n",
       "      <td>Tây-Bắc</td>\n",
       "      <td>70 m²</td>\n",
       "      <td>Tin Vip 1</td>\n",
       "      <td>2 (phòng)</td>\n",
       "      <td>2 PN</td>\n",
       "      <td>Đông-Nam</td>\n",
       "      <td>THT New City</td>\n",
       "      <td>21.06287956237793,105.72223663330078</td>\n",
       "      <td>Thỏa thuận</td>\n",
       "    </tr>\n",
       "    <tr>\n",
       "      <td>3</td>\n",
       "      <td>05/10/2020</td>\n",
       "      <td>Dự án Sunshine City, Đường Phạm Văn Đồng, Phườ...</td>\n",
       "      <td>NaN</td>\n",
       "      <td>116.7 m²</td>\n",
       "      <td>Tin Vip đặc biệt</td>\n",
       "      <td>2 (phòng)</td>\n",
       "      <td>3 PN</td>\n",
       "      <td>NaN</td>\n",
       "      <td>Sunshine City</td>\n",
       "      <td>21.0919170379639,105.785003662109</td>\n",
       "      <td>4 tỷ</td>\n",
       "    </tr>\n",
       "    <tr>\n",
       "      <td>4</td>\n",
       "      <td>09/10/2020</td>\n",
       "      <td>Imperia Sky Garden, 423, Đường Minh Khai, Phườ...</td>\n",
       "      <td>NaN</td>\n",
       "      <td>80 m²</td>\n",
       "      <td>Tin Vip 1</td>\n",
       "      <td>2 (phòng)</td>\n",
       "      <td>2 PN</td>\n",
       "      <td>NaN</td>\n",
       "      <td>Imperia Sky Garden</td>\n",
       "      <td>20.9984378814697,105.866737365723</td>\n",
       "      <td>2.6 tỷ</td>\n",
       "    </tr>\n",
       "  </tbody>\n",
       "</table>\n",
       "</div>"
      ],
      "text/plain": [
       "         time                                            address direction  \\\n",
       "0  09/10/2020  Dự án D’. Le Roi Soleil - Quảng An, Đường Xuân...       NaN   \n",
       "1  06/10/2020  Green Park Trần Thủ Độ, số 1, Đường Trần Thủ Đ...       NaN   \n",
       "2  09/10/2020               Dự án THT New City, Hoài Đức, Hà Nội   Tây-Bắc   \n",
       "3  05/10/2020  Dự án Sunshine City, Đường Phạm Văn Đồng, Phườ...       NaN   \n",
       "4  09/10/2020  Imperia Sky Garden, 423, Đường Minh Khai, Phườ...       NaN   \n",
       "\n",
       "     square             types     toilet bedroom balcony_direction  \\\n",
       "0    111 m²         Tin Vip 1        NaN    3 PN               NaN   \n",
       "1     85 m²         Tin Vip 1        NaN    3 PN          Đông-Nam   \n",
       "2     70 m²         Tin Vip 1  2 (phòng)    2 PN          Đông-Nam   \n",
       "3  116.7 m²  Tin Vip đặc biệt  2 (phòng)    3 PN               NaN   \n",
       "4     80 m²         Tin Vip 1  2 (phòng)    2 PN               NaN   \n",
       "\n",
       "                        project                              location  \\\n",
       "0  D’. Le Roi Soleil - Quảng An     21.0648994445801,105.827049255371   \n",
       "1        Green Park Trần Thủ Độ     20.9605541229248,105.845962524414   \n",
       "2                  THT New City  21.06287956237793,105.72223663330078   \n",
       "3                 Sunshine City     21.0919170379639,105.785003662109   \n",
       "4            Imperia Sky Garden     20.9984378814697,105.866737365723   \n",
       "\n",
       "        price  \n",
       "0      6.6 tỷ  \n",
       "1      1.9 tỷ  \n",
       "2  Thỏa thuận  \n",
       "3        4 tỷ  \n",
       "4      2.6 tỷ  "
      ]
     },
     "execution_count": 219,
     "metadata": {},
     "output_type": "execute_result"
    }
   ],
   "source": [
    "data.head()"
   ]
  },
  {
   "cell_type": "code",
   "execution_count": 220,
   "metadata": {},
   "outputs": [],
   "source": [
    "data['ward'] = data['address'].apply(lambda x : x.split(', ')[-3: -2]).astype('str')\n",
    "data['ward'] = data['ward'].apply(lambda x : x.replace(\"['\", \"\"))\n",
    "data['ward'] = data['ward'].apply(lambda x : x.replace(\"']\", \"\"))"
   ]
  },
  {
   "cell_type": "code",
   "execution_count": 221,
   "metadata": {},
   "outputs": [],
   "source": [
    "data['district'] = data['address'].apply(lambda x : x.split(', ')[-2: -1 ]).astype('str')\n",
    "data['district'] = data['district'].apply(lambda x : x.replace(\"['\", \"\"))\n",
    "data['district'] = data['district'].apply(lambda x : x.replace(\"']\", \"\"))"
   ]
  },
  {
   "cell_type": "code",
   "execution_count": 222,
   "metadata": {},
   "outputs": [
    {
     "data": {
      "text/plain": [
       "Nam Từ Liêm            2191\n",
       "Thanh Xuân             2009\n",
       "Hà Đông                1926\n",
       "Cầu Giấy               1744\n",
       "Bắc Từ Liêm            1648\n",
       "Hoàng Mai              1503\n",
       "Tây Hồ                 1185\n",
       "Hai Bà Trưng           1074\n",
       "Long Biên              1053\n",
       "Gia Lâm                 412\n",
       "Thanh Trì               409\n",
       "Đống Đa                 350\n",
       "Ba Đình                 336\n",
       "Hoài Đức                298\n",
       "Đông Anh                115\n",
       "Đan Phượng               24\n",
       "Chương Mỹ                18\n",
       "Thạch Thất                9\n",
       "Hoàn Kiếm                 5\n",
       "Huyện Thanh Trì           1\n",
       "Hà Nội                    1\n",
       "Mê Linh                   1\n",
       "Q. Hà Đông                1\n",
       "Dự án CT3 Nam Cường       1\n",
       "huyện Thanh Trì           1\n",
       "Name: district, dtype: int64"
      ]
     },
     "execution_count": 222,
     "metadata": {},
     "output_type": "execute_result"
    }
   ],
   "source": [
    "data['district'].value_counts()"
   ]
  },
  {
   "cell_type": "code",
   "execution_count": 223,
   "metadata": {},
   "outputs": [],
   "source": [
    "data.drop([301, 5900, 11586, 9751, 11014, 11733], inplace = True) "
   ]
  },
  {
   "cell_type": "code",
   "execution_count": 224,
   "metadata": {},
   "outputs": [],
   "source": [
    "data = data[~data['price'].isin(['Thỏa thuận'])]"
   ]
  },
  {
   "cell_type": "code",
   "execution_count": 225,
   "metadata": {},
   "outputs": [
    {
     "name": "stdout",
     "output_type": "stream",
     "text": [
      "<class 'pandas.core.frame.DataFrame'>\n",
      "Int64Index: 14207 entries, 0 to 16343\n",
      "Data columns (total 13 columns):\n",
      "time                 14207 non-null object\n",
      "address              14207 non-null object\n",
      "direction            7402 non-null object\n",
      "square               13864 non-null object\n",
      "types                14207 non-null object\n",
      "toilet               10782 non-null object\n",
      "bedroom              13410 non-null object\n",
      "balcony_direction    8250 non-null object\n",
      "project              14207 non-null object\n",
      "location             14207 non-null object\n",
      "price                14207 non-null object\n",
      "ward                 14207 non-null object\n",
      "district             14207 non-null object\n",
      "dtypes: object(13)\n",
      "memory usage: 1.5+ MB\n"
     ]
    }
   ],
   "source": [
    "data.info()"
   ]
  },
  {
   "cell_type": "code",
   "execution_count": 226,
   "metadata": {},
   "outputs": [
    {
     "name": "stdout",
     "output_type": "stream",
     "text": [
      "<class 'pandas.core.frame.DataFrame'>\n",
      "Int64Index: 6126 entries, 5 to 16334\n",
      "Data columns (total 13 columns):\n",
      "time                 6126 non-null object\n",
      "address              6126 non-null object\n",
      "direction            6126 non-null object\n",
      "square               6126 non-null object\n",
      "types                6126 non-null object\n",
      "toilet               6126 non-null object\n",
      "bedroom              6126 non-null object\n",
      "balcony_direction    6126 non-null object\n",
      "project              6126 non-null object\n",
      "location             6126 non-null object\n",
      "price                6126 non-null object\n",
      "ward                 6126 non-null object\n",
      "district             6126 non-null object\n",
      "dtypes: object(13)\n",
      "memory usage: 670.0+ KB\n"
     ]
    }
   ],
   "source": [
    "data = data.dropna(axis = 0)\n",
    "data.info()"
   ]
  },
  {
   "cell_type": "code",
   "execution_count": 227,
   "metadata": {},
   "outputs": [],
   "source": [
    "data['square'] = data['square'].apply(lambda x : x.replace(' m²', ''))\n",
    "data['toilet'] = data['toilet'].apply(lambda x : x[0])\n",
    "data['bedroom'] = data['bedroom'].apply(lambda x : x.replace('PN', ''))\n",
    "data['lat'] = data['location'].apply(lambda x : x.split(',')[0])\n",
    "data['long'] = data['location'].apply(lambda x : x.split(',')[1])"
   ]
  },
  {
   "cell_type": "code",
   "execution_count": 228,
   "metadata": {},
   "outputs": [
    {
     "data": {
      "text/html": [
       "<div>\n",
       "<style scoped>\n",
       "    .dataframe tbody tr th:only-of-type {\n",
       "        vertical-align: middle;\n",
       "    }\n",
       "\n",
       "    .dataframe tbody tr th {\n",
       "        vertical-align: top;\n",
       "    }\n",
       "\n",
       "    .dataframe thead th {\n",
       "        text-align: right;\n",
       "    }\n",
       "</style>\n",
       "<table border=\"1\" class=\"dataframe\">\n",
       "  <thead>\n",
       "    <tr style=\"text-align: right;\">\n",
       "      <th></th>\n",
       "      <th>time</th>\n",
       "      <th>direction</th>\n",
       "      <th>square</th>\n",
       "      <th>types</th>\n",
       "      <th>toilet</th>\n",
       "      <th>bedroom</th>\n",
       "      <th>balcony_direction</th>\n",
       "      <th>project</th>\n",
       "      <th>price</th>\n",
       "      <th>ward</th>\n",
       "      <th>district</th>\n",
       "      <th>lat</th>\n",
       "      <th>long</th>\n",
       "    </tr>\n",
       "  </thead>\n",
       "  <tbody>\n",
       "    <tr>\n",
       "      <td>5</td>\n",
       "      <td>09/10/2020</td>\n",
       "      <td>Tây-Nam</td>\n",
       "      <td>36</td>\n",
       "      <td>Tin Vip 1</td>\n",
       "      <td>1</td>\n",
       "      <td>1</td>\n",
       "      <td>Đông-Bắc</td>\n",
       "      <td>Vinhomes West Point</td>\n",
       "      <td>1.55 tỷ</td>\n",
       "      <td>Dự án Vinhomes West Point</td>\n",
       "      <td>Nam Từ Liêm</td>\n",
       "      <td>21.0197982788086</td>\n",
       "      <td>105.780708312988</td>\n",
       "    </tr>\n",
       "    <tr>\n",
       "      <td>6</td>\n",
       "      <td>03/10/2020</td>\n",
       "      <td>Tây-Bắc</td>\n",
       "      <td>153</td>\n",
       "      <td>Tin Vip 1</td>\n",
       "      <td>2</td>\n",
       "      <td>4</td>\n",
       "      <td>Đông-Nam</td>\n",
       "      <td>Khu đô thị Nam Thăng Long - Ciputra</td>\n",
       "      <td>3.8 tỷ</td>\n",
       "      <td>Phường Phú Thượng</td>\n",
       "      <td>Tây Hồ</td>\n",
       "      <td>21.072135925293</td>\n",
       "      <td>105.810997009277</td>\n",
       "    </tr>\n",
       "    <tr>\n",
       "      <td>7</td>\n",
       "      <td>03/10/2020</td>\n",
       "      <td>Nam</td>\n",
       "      <td>103</td>\n",
       "      <td>Tin Vip 1</td>\n",
       "      <td>2</td>\n",
       "      <td>3</td>\n",
       "      <td>Tây-Bắc</td>\n",
       "      <td>Times City</td>\n",
       "      <td>4.1 tỷ</td>\n",
       "      <td>Phường Vĩnh Tuy</td>\n",
       "      <td>Hai Bà Trưng</td>\n",
       "      <td>20.9947910308838</td>\n",
       "      <td>105.86784362793</td>\n",
       "    </tr>\n",
       "    <tr>\n",
       "      <td>10</td>\n",
       "      <td>03/10/2020</td>\n",
       "      <td>Nam</td>\n",
       "      <td>85</td>\n",
       "      <td>Tin Vip 1</td>\n",
       "      <td>2</td>\n",
       "      <td>2</td>\n",
       "      <td>Nam</td>\n",
       "      <td>Mipec Rubik 360</td>\n",
       "      <td>39 triệu/m²</td>\n",
       "      <td>Phường Dịch Vọng Hậu</td>\n",
       "      <td>Cầu Giấy</td>\n",
       "      <td>21.0371532440186</td>\n",
       "      <td>105.786338806152</td>\n",
       "    </tr>\n",
       "    <tr>\n",
       "      <td>14</td>\n",
       "      <td>09/10/2020</td>\n",
       "      <td>Đông-Nam</td>\n",
       "      <td>65</td>\n",
       "      <td>Tin Vip 3</td>\n",
       "      <td>2</td>\n",
       "      <td>2</td>\n",
       "      <td>Tây-Bắc</td>\n",
       "      <td>Vinhomes West Point</td>\n",
       "      <td>3.05 tỷ</td>\n",
       "      <td>Phường Mỹ Đình 1</td>\n",
       "      <td>Nam Từ Liêm</td>\n",
       "      <td>21.0197982788086</td>\n",
       "      <td>105.780708312988</td>\n",
       "    </tr>\n",
       "  </tbody>\n",
       "</table>\n",
       "</div>"
      ],
      "text/plain": [
       "          time direction square      types toilet bedroom balcony_direction  \\\n",
       "5   09/10/2020   Tây-Nam     36  Tin Vip 1      1      1           Đông-Bắc   \n",
       "6   03/10/2020   Tây-Bắc    153  Tin Vip 1      2      4           Đông-Nam   \n",
       "7   03/10/2020       Nam    103  Tin Vip 1      2      3            Tây-Bắc   \n",
       "10  03/10/2020       Nam     85  Tin Vip 1      2      2                Nam   \n",
       "14  09/10/2020  Đông-Nam     65  Tin Vip 3      2      2            Tây-Bắc   \n",
       "\n",
       "                                project        price  \\\n",
       "5                   Vinhomes West Point      1.55 tỷ   \n",
       "6   Khu đô thị Nam Thăng Long - Ciputra       3.8 tỷ   \n",
       "7                            Times City       4.1 tỷ   \n",
       "10                      Mipec Rubik 360  39 triệu/m²   \n",
       "14                  Vinhomes West Point      3.05 tỷ   \n",
       "\n",
       "                         ward      district               lat  \\\n",
       "5   Dự án Vinhomes West Point   Nam Từ Liêm  21.0197982788086   \n",
       "6           Phường Phú Thượng        Tây Hồ   21.072135925293   \n",
       "7            Phường Vĩnh Tuy  Hai Bà Trưng  20.9947910308838   \n",
       "10       Phường Dịch Vọng Hậu      Cầu Giấy  21.0371532440186   \n",
       "14           Phường Mỹ Đình 1   Nam Từ Liêm  21.0197982788086   \n",
       "\n",
       "                long  \n",
       "5   105.780708312988  \n",
       "6   105.810997009277  \n",
       "7    105.86784362793  \n",
       "10  105.786338806152  \n",
       "14  105.780708312988  "
      ]
     },
     "execution_count": 228,
     "metadata": {},
     "output_type": "execute_result"
    }
   ],
   "source": [
    "del data['address']\n",
    "del data['location']\n",
    "data.head()"
   ]
  },
  {
   "cell_type": "code",
   "execution_count": 229,
   "metadata": {},
   "outputs": [],
   "source": [
    "def findx(x):\n",
    "    if x.find(' triệu/m²') >= 0:\n",
    "        return x.replace(' triệu/m²', '')\n",
    "    else:\n",
    "        return '0'\n",
    "def findm(x):\n",
    "    if x.find(' triệu') >= 0:\n",
    "        return x.replace(' triệu', '')\n",
    "    else:\n",
    "        return '0'\n",
    "def remove_ch_1(x):\n",
    "    if x.find( ' triệu/m²') >= 0:\n",
    "        return '0'\n",
    "    if x.find( ' tỷ') >= 0:\n",
    "        return x.split()[0]\n",
    "    else:\n",
    "        return x\n",
    "def remove_ch_2(x):\n",
    "    if x.find( ' triệu') >= 0:\n",
    "        return '0'\n",
    "    else :\n",
    "        return x;"
   ]
  },
  {
   "cell_type": "code",
   "execution_count": 230,
   "metadata": {},
   "outputs": [],
   "source": [
    "data['temp'] = data['price'].apply(lambda x : findx(x))\n",
    "data['price'] = data['price'].apply(lambda x : remove_ch_1(x))\n",
    "data['milion'] = data['price'].apply(lambda x : findm(x))\n",
    "data['price'] = data['price'].apply(lambda x : remove_ch_2(x))\n"
   ]
  },
  {
   "cell_type": "code",
   "execution_count": 231,
   "metadata": {},
   "outputs": [],
   "source": [
    "convert_col = ['square', 'toilet', 'bedroom', 'price', 'temp', 'milion', 'lat', 'long']\n",
    "for i in convert_col:\n",
    "    data[i]  = data[i].astype('float32')"
   ]
  },
  {
   "cell_type": "code",
   "execution_count": 232,
   "metadata": {},
   "outputs": [],
   "source": [
    "data['price'] = data['price'] * 1000 + data['square']*data['temp'] + data['milion']"
   ]
  },
  {
   "cell_type": "code",
   "execution_count": 233,
   "metadata": {},
   "outputs": [
    {
     "name": "stdout",
     "output_type": "stream",
     "text": [
      "<class 'pandas.core.frame.DataFrame'>\n",
      "Int64Index: 6126 entries, 5 to 16334\n",
      "Data columns (total 15 columns):\n",
      "time                 6126 non-null object\n",
      "direction            6126 non-null object\n",
      "square               6126 non-null float32\n",
      "types                6126 non-null object\n",
      "toilet               6126 non-null float32\n",
      "bedroom              6126 non-null float32\n",
      "balcony_direction    6126 non-null object\n",
      "project              6126 non-null object\n",
      "price                6126 non-null float32\n",
      "ward                 6126 non-null object\n",
      "district             6126 non-null object\n",
      "lat                  6126 non-null float32\n",
      "long                 6126 non-null float32\n",
      "temp                 6126 non-null float32\n",
      "milion               6126 non-null float32\n",
      "dtypes: float32(8), object(7)\n",
      "memory usage: 574.3+ KB\n"
     ]
    }
   ],
   "source": [
    "data.info()"
   ]
  },
  {
   "cell_type": "code",
   "execution_count": 234,
   "metadata": {},
   "outputs": [],
   "source": [
    "del data['temp']\n",
    "del data['milion']"
   ]
  },
  {
   "cell_type": "code",
   "execution_count": 242,
   "metadata": {},
   "outputs": [
    {
     "data": {
      "text/html": [
       "<div>\n",
       "<style scoped>\n",
       "    .dataframe tbody tr th:only-of-type {\n",
       "        vertical-align: middle;\n",
       "    }\n",
       "\n",
       "    .dataframe tbody tr th {\n",
       "        vertical-align: top;\n",
       "    }\n",
       "\n",
       "    .dataframe thead th {\n",
       "        text-align: right;\n",
       "    }\n",
       "</style>\n",
       "<table border=\"1\" class=\"dataframe\">\n",
       "  <thead>\n",
       "    <tr style=\"text-align: right;\">\n",
       "      <th></th>\n",
       "      <th>time</th>\n",
       "      <th>direction</th>\n",
       "      <th>square</th>\n",
       "      <th>types</th>\n",
       "      <th>toilet</th>\n",
       "      <th>bedroom</th>\n",
       "      <th>balcony_direction</th>\n",
       "      <th>project</th>\n",
       "      <th>price</th>\n",
       "      <th>ward</th>\n",
       "      <th>district</th>\n",
       "      <th>lat</th>\n",
       "      <th>long</th>\n",
       "      <th>center_dis</th>\n",
       "    </tr>\n",
       "  </thead>\n",
       "  <tbody>\n",
       "    <tr>\n",
       "      <td>5</td>\n",
       "      <td>09/10/2020</td>\n",
       "      <td>Tây-Nam</td>\n",
       "      <td>36.0</td>\n",
       "      <td>Tin Vip 1</td>\n",
       "      <td>1.0</td>\n",
       "      <td>1.0</td>\n",
       "      <td>Đông-Bắc</td>\n",
       "      <td>Vinhomes West Point</td>\n",
       "      <td>1550.0</td>\n",
       "      <td>Dự án Vinhomes West Point</td>\n",
       "      <td>Nam Từ Liêm</td>\n",
       "      <td>-8.659363</td>\n",
       "      <td>-60.615540</td>\n",
       "      <td>61.230938</td>\n",
       "    </tr>\n",
       "    <tr>\n",
       "      <td>6</td>\n",
       "      <td>03/10/2020</td>\n",
       "      <td>Tây-Bắc</td>\n",
       "      <td>153.0</td>\n",
       "      <td>Tin Vip 1</td>\n",
       "      <td>2.0</td>\n",
       "      <td>4.0</td>\n",
       "      <td>Đông-Nam</td>\n",
       "      <td>Khu đô thị Nam Thăng Long - Ciputra</td>\n",
       "      <td>3800.0</td>\n",
       "      <td>Phường Phú Thượng</td>\n",
       "      <td>Tây Hồ</td>\n",
       "      <td>43.678284</td>\n",
       "      <td>-30.326843</td>\n",
       "      <td>53.174335</td>\n",
       "    </tr>\n",
       "    <tr>\n",
       "      <td>7</td>\n",
       "      <td>03/10/2020</td>\n",
       "      <td>Nam</td>\n",
       "      <td>103.0</td>\n",
       "      <td>Tin Vip 1</td>\n",
       "      <td>2.0</td>\n",
       "      <td>3.0</td>\n",
       "      <td>Tây-Bắc</td>\n",
       "      <td>Times City</td>\n",
       "      <td>4100.0</td>\n",
       "      <td>Phường Vĩnh Tuy</td>\n",
       "      <td>Hai Bà Trưng</td>\n",
       "      <td>-33.666611</td>\n",
       "      <td>26.519775</td>\n",
       "      <td>42.857197</td>\n",
       "    </tr>\n",
       "    <tr>\n",
       "      <td>10</td>\n",
       "      <td>03/10/2020</td>\n",
       "      <td>Nam</td>\n",
       "      <td>85.0</td>\n",
       "      <td>Tin Vip 1</td>\n",
       "      <td>2.0</td>\n",
       "      <td>2.0</td>\n",
       "      <td>Nam</td>\n",
       "      <td>Mipec Rubik 360</td>\n",
       "      <td>3315.0</td>\n",
       "      <td>Phường Dịch Vọng Hậu</td>\n",
       "      <td>Cầu Giấy</td>\n",
       "      <td>8.695602</td>\n",
       "      <td>-54.985046</td>\n",
       "      <td>55.668385</td>\n",
       "    </tr>\n",
       "    <tr>\n",
       "      <td>14</td>\n",
       "      <td>09/10/2020</td>\n",
       "      <td>Đông-Nam</td>\n",
       "      <td>65.0</td>\n",
       "      <td>Tin Vip 3</td>\n",
       "      <td>2.0</td>\n",
       "      <td>2.0</td>\n",
       "      <td>Tây-Bắc</td>\n",
       "      <td>Vinhomes West Point</td>\n",
       "      <td>3050.0</td>\n",
       "      <td>Phường Mỹ Đình 1</td>\n",
       "      <td>Nam Từ Liêm</td>\n",
       "      <td>-8.659363</td>\n",
       "      <td>-60.615540</td>\n",
       "      <td>61.230938</td>\n",
       "    </tr>\n",
       "  </tbody>\n",
       "</table>\n",
       "</div>"
      ],
      "text/plain": [
       "          time direction  square      types  toilet  bedroom  \\\n",
       "5   09/10/2020   Tây-Nam    36.0  Tin Vip 1     1.0      1.0   \n",
       "6   03/10/2020   Tây-Bắc   153.0  Tin Vip 1     2.0      4.0   \n",
       "7   03/10/2020       Nam   103.0  Tin Vip 1     2.0      3.0   \n",
       "10  03/10/2020       Nam    85.0  Tin Vip 1     2.0      2.0   \n",
       "14  09/10/2020  Đông-Nam    65.0  Tin Vip 3     2.0      2.0   \n",
       "\n",
       "   balcony_direction                              project   price  \\\n",
       "5           Đông-Bắc                  Vinhomes West Point  1550.0   \n",
       "6           Đông-Nam  Khu đô thị Nam Thăng Long - Ciputra  3800.0   \n",
       "7            Tây-Bắc                           Times City  4100.0   \n",
       "10               Nam                      Mipec Rubik 360  3315.0   \n",
       "14           Tây-Bắc                  Vinhomes West Point  3050.0   \n",
       "\n",
       "                         ward      district        lat       long  center_dis  \n",
       "5   Dự án Vinhomes West Point   Nam Từ Liêm  -8.659363 -60.615540   61.230938  \n",
       "6           Phường Phú Thượng        Tây Hồ  43.678284 -30.326843   53.174335  \n",
       "7            Phường Vĩnh Tuy  Hai Bà Trưng -33.666611  26.519775   42.857197  \n",
       "10       Phường Dịch Vọng Hậu      Cầu Giấy   8.695602 -54.985046   55.668385  \n",
       "14           Phường Mỹ Đình 1   Nam Từ Liêm  -8.659363 -60.615540   61.230938  "
      ]
     },
     "execution_count": 242,
     "metadata": {},
     "output_type": "execute_result"
    }
   ],
   "source": [
    "data.head()"
   ]
  },
  {
   "cell_type": "code",
   "execution_count": 241,
   "metadata": {},
   "outputs": [
    {
     "data": {
      "text/plain": [
       "5        61.230938\n",
       "6        53.174335\n",
       "7        42.857197\n",
       "10       55.668385\n",
       "14       61.230938\n",
       "           ...    \n",
       "16210    11.134452\n",
       "16235    82.168167\n",
       "16300    24.786261\n",
       "16315    66.814102\n",
       "16334    59.141430\n",
       "Name: center_dis, Length: 6126, dtype: float32"
      ]
     },
     "execution_count": 241,
     "metadata": {},
     "output_type": "execute_result"
    }
   ],
   "source": [
    "data['center_dis'] = np.sqrt((data['lat'] - 21.028458) ** 2 + (data['long'] - 105.841324) ** 2) * 1000\n",
    "data['lat'] = (data['lat'] - 21.028458) * 1000\n",
    "data['long'] = (data['long'] - 105.841324) * 1000\n",
    "data['center_dis']"
   ]
  },
  {
   "cell_type": "code",
   "execution_count": 114,
   "metadata": {},
   "outputs": [],
   "source": [
    "train_columns = ['direction', 'square', 'toilet', 'bedroom' , 'balcony_direction', 'district', '']"
   ]
  },
  {
   "cell_type": "code",
   "execution_count": 115,
   "metadata": {},
   "outputs": [
    {
     "data": {
      "text/plain": [
       "['direction', 'square', 'toilet', 'bedroom', 'balcony_direction', 'district']"
      ]
     },
     "execution_count": 115,
     "metadata": {},
     "output_type": "execute_result"
    }
   ],
   "source": [
    "train_columns"
   ]
  },
  {
   "cell_type": "code",
   "execution_count": 116,
   "metadata": {},
   "outputs": [
    {
     "data": {
      "text/plain": [
       "0"
      ]
     },
     "execution_count": 116,
     "metadata": {},
     "output_type": "execute_result"
    }
   ],
   "source": [
    "df1 = data[train_columns].copy()\n",
    "y = data['price'].copy()\n",
    "y.isnull().sum()"
   ]
  },
  {
   "cell_type": "code",
   "execution_count": 117,
   "metadata": {},
   "outputs": [
    {
     "data": {
      "text/html": [
       "<div>\n",
       "<style scoped>\n",
       "    .dataframe tbody tr th:only-of-type {\n",
       "        vertical-align: middle;\n",
       "    }\n",
       "\n",
       "    .dataframe tbody tr th {\n",
       "        vertical-align: top;\n",
       "    }\n",
       "\n",
       "    .dataframe thead th {\n",
       "        text-align: right;\n",
       "    }\n",
       "</style>\n",
       "<table border=\"1\" class=\"dataframe\">\n",
       "  <thead>\n",
       "    <tr style=\"text-align: right;\">\n",
       "      <th></th>\n",
       "      <th>direction</th>\n",
       "      <th>square</th>\n",
       "      <th>toilet</th>\n",
       "      <th>bedroom</th>\n",
       "      <th>balcony_direction</th>\n",
       "      <th>district</th>\n",
       "    </tr>\n",
       "  </thead>\n",
       "  <tbody>\n",
       "    <tr>\n",
       "      <td>0</td>\n",
       "      <td>Tây</td>\n",
       "      <td>97.0</td>\n",
       "      <td>2.0</td>\n",
       "      <td>3.0</td>\n",
       "      <td>Đông</td>\n",
       "      <td>Hoài Đức</td>\n",
       "    </tr>\n",
       "    <tr>\n",
       "      <td>1</td>\n",
       "      <td>Đông-Nam</td>\n",
       "      <td>58.0</td>\n",
       "      <td>1.0</td>\n",
       "      <td>2.0</td>\n",
       "      <td>Tây-Bắc</td>\n",
       "      <td>Nam Từ Liêm</td>\n",
       "    </tr>\n",
       "    <tr>\n",
       "      <td>2</td>\n",
       "      <td>Bắc</td>\n",
       "      <td>61.0</td>\n",
       "      <td>2.0</td>\n",
       "      <td>2.0</td>\n",
       "      <td>Đông-Nam</td>\n",
       "      <td>Hà Đông</td>\n",
       "    </tr>\n",
       "    <tr>\n",
       "      <td>3</td>\n",
       "      <td>Đông-Bắc</td>\n",
       "      <td>102.0</td>\n",
       "      <td>2.0</td>\n",
       "      <td>3.0</td>\n",
       "      <td>Đông-Nam</td>\n",
       "      <td>Bắc Từ Liêm</td>\n",
       "    </tr>\n",
       "    <tr>\n",
       "      <td>4</td>\n",
       "      <td>Tây</td>\n",
       "      <td>68.0</td>\n",
       "      <td>2.0</td>\n",
       "      <td>2.0</td>\n",
       "      <td>Đông</td>\n",
       "      <td>Hoàng Mai</td>\n",
       "    </tr>\n",
       "  </tbody>\n",
       "</table>\n",
       "</div>"
      ],
      "text/plain": [
       "  direction  square  toilet  bedroom balcony_direction     district\n",
       "0       Tây    97.0     2.0      3.0              Đông     Hoài Đức\n",
       "1  Đông-Nam    58.0     1.0      2.0           Tây-Bắc  Nam Từ Liêm\n",
       "2       Bắc    61.0     2.0      2.0          Đông-Nam      Hà Đông\n",
       "3  Đông-Bắc   102.0     2.0      3.0          Đông-Nam  Bắc Từ Liêm\n",
       "4       Tây    68.0     2.0      2.0              Đông    Hoàng Mai"
      ]
     },
     "execution_count": 117,
     "metadata": {},
     "output_type": "execute_result"
    }
   ],
   "source": [
    "df1.head()"
   ]
  },
  {
   "cell_type": "code",
   "execution_count": 118,
   "metadata": {},
   "outputs": [
    {
     "data": {
      "text/plain": [
       "0    1800.0\n",
       "1    1380.0\n",
       "2    1400.0\n",
       "3    2850.0\n",
       "4    2600.0\n",
       "Name: price, dtype: float32"
      ]
     },
     "execution_count": 118,
     "metadata": {},
     "output_type": "execute_result"
    }
   ],
   "source": [
    "y.head()"
   ]
  },
  {
   "cell_type": "code",
   "execution_count": 120,
   "metadata": {},
   "outputs": [],
   "source": [
    "object_cols = ['direction', 'balcony_direction', 'district']\n",
    "from sklearn.preprocessing import LabelEncoder\n",
    "le = LabelEncoder()\n",
    "for col in object_cols:\n",
    "    df1[col] = le.fit_transform(df1[col])"
   ]
  },
  {
   "cell_type": "code",
   "execution_count": 121,
   "metadata": {},
   "outputs": [
    {
     "name": "stdout",
     "output_type": "stream",
     "text": [
      "<class 'pandas.core.frame.DataFrame'>\n",
      "RangeIndex: 1915 entries, 0 to 1914\n",
      "Data columns (total 6 columns):\n",
      "direction            1915 non-null int64\n",
      "square               1915 non-null float32\n",
      "toilet               1915 non-null float32\n",
      "bedroom              1915 non-null float32\n",
      "balcony_direction    1915 non-null int64\n",
      "district             1915 non-null int32\n",
      "dtypes: float32(3), int32(1), int64(2)\n",
      "memory usage: 60.0 KB\n"
     ]
    }
   ],
   "source": [
    "df1.info()"
   ]
  },
  {
   "cell_type": "code",
   "execution_count": 122,
   "metadata": {},
   "outputs": [],
   "source": [
    "from sklearn.model_selection import train_test_split\n",
    "X_train, X_test, y_train, y_test = train_test_split (df1, y, test_size=0.25, random_state=42)"
   ]
  },
  {
   "cell_type": "code",
   "execution_count": 123,
   "metadata": {},
   "outputs": [
    {
     "data": {
      "text/plain": [
       "0"
      ]
     },
     "execution_count": 123,
     "metadata": {},
     "output_type": "execute_result"
    }
   ],
   "source": [
    "y_train.isnull().sum()"
   ]
  },
  {
   "cell_type": "code",
   "execution_count": 124,
   "metadata": {},
   "outputs": [
    {
     "data": {
      "text/html": [
       "<div>\n",
       "<style scoped>\n",
       "    .dataframe tbody tr th:only-of-type {\n",
       "        vertical-align: middle;\n",
       "    }\n",
       "\n",
       "    .dataframe tbody tr th {\n",
       "        vertical-align: top;\n",
       "    }\n",
       "\n",
       "    .dataframe thead th {\n",
       "        text-align: right;\n",
       "    }\n",
       "</style>\n",
       "<table border=\"1\" class=\"dataframe\">\n",
       "  <thead>\n",
       "    <tr style=\"text-align: right;\">\n",
       "      <th></th>\n",
       "      <th>direction</th>\n",
       "      <th>square</th>\n",
       "      <th>toilet</th>\n",
       "      <th>bedroom</th>\n",
       "      <th>balcony_direction</th>\n",
       "      <th>district</th>\n",
       "    </tr>\n",
       "  </thead>\n",
       "  <tbody>\n",
       "    <tr>\n",
       "      <td>1387</td>\n",
       "      <td>7</td>\n",
       "      <td>160.000000</td>\n",
       "      <td>3.0</td>\n",
       "      <td>4.0</td>\n",
       "      <td>3</td>\n",
       "      <td>3</td>\n",
       "    </tr>\n",
       "    <tr>\n",
       "      <td>1874</td>\n",
       "      <td>6</td>\n",
       "      <td>70.000000</td>\n",
       "      <td>2.0</td>\n",
       "      <td>2.0</td>\n",
       "      <td>4</td>\n",
       "      <td>7</td>\n",
       "    </tr>\n",
       "    <tr>\n",
       "      <td>543</td>\n",
       "      <td>0</td>\n",
       "      <td>73.370003</td>\n",
       "      <td>2.0</td>\n",
       "      <td>2.0</td>\n",
       "      <td>1</td>\n",
       "      <td>1</td>\n",
       "    </tr>\n",
       "    <tr>\n",
       "      <td>478</td>\n",
       "      <td>3</td>\n",
       "      <td>75.000000</td>\n",
       "      <td>2.0</td>\n",
       "      <td>2.0</td>\n",
       "      <td>7</td>\n",
       "      <td>8</td>\n",
       "    </tr>\n",
       "    <tr>\n",
       "      <td>741</td>\n",
       "      <td>6</td>\n",
       "      <td>63.000000</td>\n",
       "      <td>2.0</td>\n",
       "      <td>2.0</td>\n",
       "      <td>4</td>\n",
       "      <td>8</td>\n",
       "    </tr>\n",
       "  </tbody>\n",
       "</table>\n",
       "</div>"
      ],
      "text/plain": [
       "      direction      square  toilet  bedroom  balcony_direction  district\n",
       "1387          7  160.000000     3.0      4.0                  3         3\n",
       "1874          6   70.000000     2.0      2.0                  4         7\n",
       "543           0   73.370003     2.0      2.0                  1         1\n",
       "478           3   75.000000     2.0      2.0                  7         8\n",
       "741           6   63.000000     2.0      2.0                  4         8"
      ]
     },
     "execution_count": 124,
     "metadata": {},
     "output_type": "execute_result"
    }
   ],
   "source": [
    "X_train.head()"
   ]
  },
  {
   "cell_type": "code",
   "execution_count": 54,
   "metadata": {},
   "outputs": [
    {
     "data": {
      "text/plain": [
       "1387    4160.0\n",
       "1874    1890.0\n",
       "543     2700.0\n",
       "478     1500.0\n",
       "741      970.0\n",
       "Name: price, dtype: float32"
      ]
     },
     "execution_count": 54,
     "metadata": {},
     "output_type": "execute_result"
    }
   ],
   "source": [
    "y_train.head()"
   ]
  },
  {
   "cell_type": "code",
   "execution_count": 98,
   "metadata": {},
   "outputs": [
    {
     "data": {
      "text/plain": [
       "KNeighborsRegressor(algorithm='auto', leaf_size=30, metric='minkowski',\n",
       "                    metric_params=None, n_jobs=None, n_neighbors=50, p=2,\n",
       "                    weights='uniform')"
      ]
     },
     "execution_count": 98,
     "metadata": {},
     "output_type": "execute_result"
    }
   ],
   "source": [
    "from sklearn.neighbors import KNeighborsRegressor\n",
    "md = KNeighborsRegressor(n_neighbors=50)\n",
    "md.fit(X_train, y_train)"
   ]
  },
  {
   "cell_type": "code",
   "execution_count": 99,
   "metadata": {},
   "outputs": [
    {
     "data": {
      "text/plain": [
       "-87.09414673652769"
      ]
     },
     "execution_count": 99,
     "metadata": {},
     "output_type": "execute_result"
    }
   ],
   "source": [
    "from sklearn.metrics import r2_score\n",
    "r2_score(y_test, md.predict(X_test))"
   ]
  },
  {
   "cell_type": "code",
   "execution_count": 100,
   "metadata": {},
   "outputs": [],
   "source": [
    "y_pred = md.predict(X_test)"
   ]
  },
  {
   "cell_type": "code",
   "execution_count": 101,
   "metadata": {},
   "outputs": [
    {
     "data": {
      "text/plain": [
       "1232    4160.00000\n",
       "111     1950.00000\n",
       "316     1670.00000\n",
       "781     1229.63501\n",
       "416     2900.00000\n",
       "           ...    \n",
       "1333    2300.00000\n",
       "199     5500.00000\n",
       "1692    6100.00000\n",
       "1628    3100.00000\n",
       "1262    1900.00000\n",
       "Name: price, Length: 479, dtype: float32"
      ]
     },
     "execution_count": 101,
     "metadata": {},
     "output_type": "execute_result"
    }
   ],
   "source": [
    "y_test"
   ]
  },
  {
   "cell_type": "code",
   "execution_count": 102,
   "metadata": {},
   "outputs": [
    {
     "data": {
      "text/plain": [
       "<matplotlib.axes._subplots.AxesSubplot at 0x1deb3127488>"
      ]
     },
     "execution_count": 102,
     "metadata": {},
     "output_type": "execute_result"
    },
    {
     "data": {
      "image/png": "[encoded data removed]",
      "text/plain": [
       "<Figure size 432x288 with 1 Axes>"
      ]
     },
     "metadata": {
      "needs_background": "light"
     },
     "output_type": "display_data"
    }
   ],
   "source": [
    "y_test.hist()"
   ]
  },
  {
   "cell_type": "code",
   "execution_count": 103,
   "metadata": {},
   "outputs": [],
   "source": [
    "y_d = pd.DataFrame(data = y_pred)\n",
    "y_t = pd.DataFrame(data = y_test)"
   ]
  },
  {
   "cell_type": "code",
   "execution_count": 104,
   "metadata": {},
   "outputs": [
    {
     "data": {
      "text/plain": [
       "-87.09414673652769"
      ]
     },
     "execution_count": 104,
     "metadata": {},
     "output_type": "execute_result"
    }
   ],
   "source": [
    "from sklearn.metrics import r2_score \n",
    "r2_score(y_test, y_pred)"
   ]
  },
  {
   "cell_type": "code",
   "execution_count": 105,
   "metadata": {},
   "outputs": [
    {
     "data": {
      "text/html": [
       "<div>\n",
       "<style scoped>\n",
       "    .dataframe tbody tr th:only-of-type {\n",
       "        vertical-align: middle;\n",
       "    }\n",
       "\n",
       "    .dataframe tbody tr th {\n",
       "        vertical-align: top;\n",
       "    }\n",
       "\n",
       "    .dataframe thead th {\n",
       "        text-align: right;\n",
       "    }\n",
       "</style>\n",
       "<table border=\"1\" class=\"dataframe\">\n",
       "  <thead>\n",
       "    <tr style=\"text-align: right;\">\n",
       "      <th></th>\n",
       "      <th>price</th>\n",
       "    </tr>\n",
       "  </thead>\n",
       "  <tbody>\n",
       "    <tr>\n",
       "      <td>1232</td>\n",
       "      <td>4160.00000</td>\n",
       "    </tr>\n",
       "    <tr>\n",
       "      <td>111</td>\n",
       "      <td>1950.00000</td>\n",
       "    </tr>\n",
       "    <tr>\n",
       "      <td>316</td>\n",
       "      <td>1670.00000</td>\n",
       "    </tr>\n",
       "    <tr>\n",
       "      <td>781</td>\n",
       "      <td>1229.63501</td>\n",
       "    </tr>\n",
       "    <tr>\n",
       "      <td>416</td>\n",
       "      <td>2900.00000</td>\n",
       "    </tr>\n",
       "    <tr>\n",
       "      <td>...</td>\n",
       "      <td>...</td>\n",
       "    </tr>\n",
       "    <tr>\n",
       "      <td>1333</td>\n",
       "      <td>2300.00000</td>\n",
       "    </tr>\n",
       "    <tr>\n",
       "      <td>199</td>\n",
       "      <td>5500.00000</td>\n",
       "    </tr>\n",
       "    <tr>\n",
       "      <td>1692</td>\n",
       "      <td>6100.00000</td>\n",
       "    </tr>\n",
       "    <tr>\n",
       "      <td>1628</td>\n",
       "      <td>3100.00000</td>\n",
       "    </tr>\n",
       "    <tr>\n",
       "      <td>1262</td>\n",
       "      <td>1900.00000</td>\n",
       "    </tr>\n",
       "  </tbody>\n",
       "</table>\n",
       "<p>479 rows × 1 columns</p>\n",
       "</div>"
      ],
      "text/plain": [
       "           price\n",
       "1232  4160.00000\n",
       "111   1950.00000\n",
       "316   1670.00000\n",
       "781   1229.63501\n",
       "416   2900.00000\n",
       "...          ...\n",
       "1333  2300.00000\n",
       "199   5500.00000\n",
       "1692  6100.00000\n",
       "1628  3100.00000\n",
       "1262  1900.00000\n",
       "\n",
       "[479 rows x 1 columns]"
      ]
     },
     "execution_count": 105,
     "metadata": {},
     "output_type": "execute_result"
    }
   ],
   "source": [
    "y_t"
   ]
  },
  {
   "cell_type": "code",
   "execution_count": 106,
   "metadata": {},
   "outputs": [],
   "source": [
    "y_t.reset_index(inplace = True)"
   ]
  },
  {
   "cell_type": "code",
   "execution_count": 107,
   "metadata": {},
   "outputs": [],
   "source": [
    "del y_t['index']"
   ]
  },
  {
   "cell_type": "code",
   "execution_count": 108,
   "metadata": {},
   "outputs": [],
   "source": [
    "y_t['pred'] = y_d"
   ]
  },
  {
   "cell_type": "code",
   "execution_count": 109,
   "metadata": {},
   "outputs": [
    {
     "data": {
      "text/html": [
       "<div>\n",
       "<style scoped>\n",
       "    .dataframe tbody tr th:only-of-type {\n",
       "        vertical-align: middle;\n",
       "    }\n",
       "\n",
       "    .dataframe tbody tr th {\n",
       "        vertical-align: top;\n",
       "    }\n",
       "\n",
       "    .dataframe thead th {\n",
       "        text-align: right;\n",
       "    }\n",
       "</style>\n",
       "<table border=\"1\" class=\"dataframe\">\n",
       "  <thead>\n",
       "    <tr style=\"text-align: right;\">\n",
       "      <th></th>\n",
       "      <th>price</th>\n",
       "      <th>pred</th>\n",
       "    </tr>\n",
       "  </thead>\n",
       "  <tbody>\n",
       "    <tr>\n",
       "      <td>0</td>\n",
       "      <td>4160.00000</td>\n",
       "      <td>5383.058105</td>\n",
       "    </tr>\n",
       "    <tr>\n",
       "      <td>1</td>\n",
       "      <td>1950.00000</td>\n",
       "      <td>1775.280029</td>\n",
       "    </tr>\n",
       "    <tr>\n",
       "      <td>2</td>\n",
       "      <td>1670.00000</td>\n",
       "      <td>2548.778076</td>\n",
       "    </tr>\n",
       "    <tr>\n",
       "      <td>3</td>\n",
       "      <td>1229.63501</td>\n",
       "      <td>1694.227539</td>\n",
       "    </tr>\n",
       "    <tr>\n",
       "      <td>4</td>\n",
       "      <td>2900.00000</td>\n",
       "      <td>2827.780029</td>\n",
       "    </tr>\n",
       "    <tr>\n",
       "      <td>...</td>\n",
       "      <td>...</td>\n",
       "      <td>...</td>\n",
       "    </tr>\n",
       "    <tr>\n",
       "      <td>474</td>\n",
       "      <td>2300.00000</td>\n",
       "      <td>2214.525146</td>\n",
       "    </tr>\n",
       "    <tr>\n",
       "      <td>475</td>\n",
       "      <td>5500.00000</td>\n",
       "      <td>2537.100098</td>\n",
       "    </tr>\n",
       "    <tr>\n",
       "      <td>476</td>\n",
       "      <td>6100.00000</td>\n",
       "      <td>4243.209961</td>\n",
       "    </tr>\n",
       "    <tr>\n",
       "      <td>477</td>\n",
       "      <td>3100.00000</td>\n",
       "      <td>2326.880859</td>\n",
       "    </tr>\n",
       "    <tr>\n",
       "      <td>478</td>\n",
       "      <td>1900.00000</td>\n",
       "      <td>1875.207520</td>\n",
       "    </tr>\n",
       "  </tbody>\n",
       "</table>\n",
       "<p>479 rows × 2 columns</p>\n",
       "</div>"
      ],
      "text/plain": [
       "          price         pred\n",
       "0    4160.00000  5383.058105\n",
       "1    1950.00000  1775.280029\n",
       "2    1670.00000  2548.778076\n",
       "3    1229.63501  1694.227539\n",
       "4    2900.00000  2827.780029\n",
       "..          ...          ...\n",
       "474  2300.00000  2214.525146\n",
       "475  5500.00000  2537.100098\n",
       "476  6100.00000  4243.209961\n",
       "477  3100.00000  2326.880859\n",
       "478  1900.00000  1875.207520\n",
       "\n",
       "[479 rows x 2 columns]"
      ]
     },
     "execution_count": 109,
     "metadata": {},
     "output_type": "execute_result"
    }
   ],
   "source": [
    "y_t"
   ]
  },
  {
   "cell_type": "code",
   "execution_count": 110,
   "metadata": {},
   "outputs": [
    {
     "data": {
      "text/plain": [
       "<matplotlib.axes._subplots.AxesSubplot at 0x1deb31be348>"
      ]
     },
     "execution_count": 110,
     "metadata": {},
     "output_type": "execute_result"
    },
    {
     "data": {
      "image/png": "[encoded data removed]",
      "text/plain": [
       "<Figure size 432x288 with 1 Axes>"
      ]
     },
     "metadata": {
      "needs_background": "light"
     },
     "output_type": "display_data"
    }
   ],
   "source": [
    "y_t['price'].hist(bins = 100)"
   ]
  },
  {
   "cell_type": "code",
   "execution_count": 113,
   "metadata": {},
   "outputs": [
    {
     "data": {
      "text/plain": [
       "<matplotlib.axes._subplots.AxesSubplot at 0x1deb33a3148>"
      ]
     },
     "execution_count": 113,
     "metadata": {},
     "output_type": "execute_result"
    },
    {
     "data": {
      "image/png": "[encoded data removed]",
      "text/plain": [
       "<Figure size 432x288 with 1 Axes>"
      ]
     },
     "metadata": {
      "needs_background": "light"
     },
     "output_type": "display_data"
    }
   ],
   "source": [
    "y_t['pred'].hist(bins = 100)"
   ]
  },
  {
   "cell_type": "code",
   "execution_count": 125,
   "metadata": {},
   "outputs": [
    {
     "name": "stderr",
     "output_type": "stream",
     "text": [
      "C:\\Users\\huy doan\\Anaconda3\\lib\\site-packages\\sklearn\\ensemble\\forest.py:245: FutureWarning: The default value of n_estimators will change from 10 in version 0.20 to 100 in 0.22.\n",
      "  \"10 in version 0.20 to 100 in 0.22.\", FutureWarning)\n"
     ]
    }
   ],
   "source": [
    "from sklearn.ensemble import RandomForestRegressor\n",
    "md = RandomForestRegressor(max_depth=10, random_state=0).fit(X_train, y_train)\n"
   ]
  },
  {
   "cell_type": "code",
   "execution_count": 126,
   "metadata": {},
   "outputs": [
    {
     "data": {
      "text/plain": [
       "RandomForestRegressor(bootstrap=True, criterion='mse', max_depth=10,\n",
       "                      max_features='auto', max_leaf_nodes=None,\n",
       "                      min_impurity_decrease=0.0, min_impurity_split=None,\n",
       "                      min_samples_leaf=1, min_samples_split=2,\n",
       "                      min_weight_fraction_leaf=0.0, n_estimators=10,\n",
       "                      n_jobs=None, oob_score=False, random_state=0, verbose=0,\n",
       "                      warm_start=False)"
      ]
     },
     "execution_count": 126,
     "metadata": {},
     "output_type": "execute_result"
    }
   ],
   "source": [
    "md"
   ]
  },
  {
   "cell_type": "code",
   "execution_count": 127,
   "metadata": {},
   "outputs": [],
   "source": [
    "y_prd_rf = md.predict(X_test)"
   ]
  },
  {
   "cell_type": "code",
   "execution_count": 128,
   "metadata": {},
   "outputs": [
    {
     "data": {
      "text/plain": [
       "array([4.28601205e+03, 1.92453291e+03, 2.31358602e+03, 1.61915143e+03,\n",
       "       3.34848047e+03, 2.54364000e+05, 3.20846791e+03, 1.44537549e+03,\n",
       "       1.17036991e+03, 1.13115550e+03, 1.87642000e+03, 2.48629901e+03,\n",
       "       2.45334194e+03, 2.53176873e+03, 3.18287535e+03, 3.00993784e+03,\n",
       "       2.98989596e+03, 1.84005454e+03, 4.36202982e+03, 2.56956921e+03,\n",
       "       1.69683276e+03, 2.92761325e+03, 1.16470073e+03, 2.33810874e+03,\n",
       "       1.05740173e+03, 1.71737092e+03, 1.34588492e+03, 1.55813017e+03,\n",
       "       1.86662708e+03, 4.66519467e+03, 4.04301844e+03, 5.33661984e+03,\n",
       "       2.91378093e+03, 2.69975882e+03, 2.91346142e+05, 3.82643282e+03,\n",
       "       1.26475236e+03, 1.87642000e+03, 2.93646701e+03, 1.92149824e+03,\n",
       "       2.70028894e+03, 3.17916475e+03, 1.10116170e+03, 1.11288138e+03,\n",
       "       3.05834529e+03, 2.86585976e+03, 3.14185655e+03, 2.28018277e+03,\n",
       "       2.32674883e+03, 1.24976448e+03, 3.20109105e+03, 2.76478941e+03,\n",
       "       2.81993067e+03, 1.13547500e+03, 3.08890706e+03, 3.70056663e+03,\n",
       "       3.80068971e+03, 2.08262500e+03, 3.44937773e+03, 2.45334194e+03,\n",
       "       2.71901662e+03, 3.13215505e+03, 4.69420962e+03, 1.47766791e+03,\n",
       "       2.28956442e+03, 4.61063057e+03, 1.10116170e+03, 3.57270414e+03,\n",
       "       9.80165590e+02, 4.39109125e+03, 1.52882771e+03, 3.05834529e+03,\n",
       "       1.84313037e+06, 3.02579225e+03, 1.77611359e+03, 1.16534788e+03,\n",
       "       6.08247844e+03, 3.08711100e+03, 1.62772162e+03, 9.18641734e+02,\n",
       "       1.33440000e+04, 2.27750000e+03, 2.30701944e+03, 2.94786842e+03,\n",
       "       1.95200000e+03, 2.73997571e+03, 2.49489551e+03, 4.89181026e+03,\n",
       "       3.42837870e+03, 1.10817190e+03, 2.36773640e+03, 6.56786190e+03,\n",
       "       1.30588716e+03, 1.43594184e+03, 2.38259607e+03, 5.41162698e+03,\n",
       "       2.75841165e+03, 1.57037375e+03, 9.33266667e+03, 1.86681250e+03,\n",
       "       3.61192270e+03, 1.89033811e+03, 3.76157095e+03, 3.32695391e+03,\n",
       "       1.74800000e+03, 2.48496360e+03, 1.58543240e+03, 4.74910404e+03,\n",
       "       4.89181026e+03, 4.36141756e+03, 5.73348894e+03, 2.77631465e+03,\n",
       "       3.00867644e+03, 3.45386810e+03, 1.10545332e+03, 3.55258043e+03,\n",
       "       7.81791667e+03, 2.70238511e+03, 1.94423158e+03, 1.29381454e+03,\n",
       "       3.08890706e+03, 3.37423165e+03, 1.92289824e+03, 1.68835751e+03,\n",
       "       2.88612801e+03, 4.36744745e+03, 4.59638494e+03, 3.34848047e+03,\n",
       "       1.43594184e+03, 2.84251041e+03, 3.42837870e+03, 3.34848047e+03,\n",
       "       2.43505126e+03, 3.37326627e+03, 3.34382546e+03, 2.60822157e+03,\n",
       "       3.18317309e+03, 2.96653142e+03, 3.44864500e+03, 2.43505126e+03,\n",
       "       1.23779103e+03, 4.28776889e+03, 4.01952454e+03, 2.82572556e+03,\n",
       "       4.46134009e+03, 3.87406453e+03, 3.06677513e+03, 3.18317309e+03,\n",
       "       5.50069846e+03, 2.91378093e+03, 1.92453291e+03, 1.63909662e+03,\n",
       "       3.44565018e+03, 2.45428571e+03, 1.98750000e+03, 1.55430959e+03,\n",
       "       1.78476345e+03, 6.87472190e+03, 1.03026909e+03, 3.14283975e+03,\n",
       "       2.08575940e+03, 2.51449719e+03, 3.06173703e+03, 3.31491443e+03,\n",
       "       2.96936592e+03, 4.52847071e+03, 1.29381454e+03, 8.36428571e+03,\n",
       "       2.46290471e+03, 1.08119825e+03, 3.09448049e+03, 3.08711100e+03,\n",
       "       1.46311553e+03, 2.11302862e+03, 2.94542411e+03, 3.78158867e+03,\n",
       "       1.14784167e+03, 2.65276225e+03, 3.09600847e+03, 2.35065943e+03,\n",
       "       1.59670352e+03, 3.81041046e+03, 3.05834529e+03, 1.10116170e+03,\n",
       "       6.50217857e+03, 3.09891638e+03, 2.36273310e+03, 3.43081151e+03,\n",
       "       4.86650317e+03, 9.33725360e+02, 1.16534788e+03, 3.06173703e+03,\n",
       "       3.06173703e+03, 1.11039754e+03, 1.59396315e+03, 3.44394833e+03,\n",
       "       2.63027114e+03, 3.17903590e+03, 1.95200000e+03, 1.22441104e+03,\n",
       "       2.39569405e+03, 3.56363010e+03, 6.82551190e+03, 1.88521061e+03,\n",
       "       1.57764879e+03, 8.88032478e+02, 6.56019524e+03, 3.16724729e+03,\n",
       "       1.54188734e+03, 3.42837870e+03, 3.02894469e+03, 2.35417000e+03,\n",
       "       2.28018277e+03, 1.77203969e+03, 1.84313037e+06, 2.33120152e+03,\n",
       "       2.92915446e+03, 1.86103074e+03, 3.01093963e+03, 1.54816068e+03,\n",
       "       3.10850000e+03, 1.08119825e+03, 1.09094696e+03, 1.09542127e+03,\n",
       "       1.80333811e+03, 8.02428571e+03, 5.00931566e+03, 2.12660494e+03,\n",
       "       4.52847071e+03, 1.62000240e+03, 1.16470073e+03, 3.35828162e+03,\n",
       "       2.73872431e+03, 3.32014112e+05, 3.67360603e+03, 4.52847071e+03,\n",
       "       1.37524064e+03, 3.54818890e+03, 1.58098734e+03, 2.62086129e+03,\n",
       "       3.60723885e+03, 3.15268045e+03, 6.56786190e+03, 5.00931566e+03,\n",
       "       3.87052380e+03, 2.11921071e+03, 1.00959732e+03, 3.15446429e+03,\n",
       "       1.68796013e+03, 2.93885704e+03, 3.60450756e+03, 1.29297500e+03,\n",
       "       9.49593905e+02, 1.06174768e+03, 1.61335852e+03, 5.50069846e+03,\n",
       "       3.72569451e+03, 1.16470073e+03, 1.71737092e+03, 2.58218471e+03,\n",
       "       1.67069865e+03, 1.77611359e+03, 3.84479051e+03, 1.77384547e+03,\n",
       "       3.12944849e+03, 3.71056456e+03, 2.08575940e+03, 2.59403149e+03,\n",
       "       1.52882771e+03, 2.73100000e+03, 5.41162698e+03, 2.34232679e+03,\n",
       "       2.88054172e+03, 1.52255594e+03, 3.20846791e+03, 3.09834667e+03,\n",
       "       2.75398146e+03, 2.55109872e+03, 2.39984329e+03, 3.13717962e+03,\n",
       "       1.81144268e+03, 1.61862211e+03, 1.14577332e+03, 4.39187700e+03,\n",
       "       1.62954071e+03, 1.11039754e+03, 3.84479051e+03, 2.34580883e+03,\n",
       "       2.74666152e+03, 6.85387736e+03, 1.29381454e+03, 1.84005454e+03,\n",
       "       7.16829559e+03, 2.61848044e+03, 5.50069846e+03, 3.59711907e+03,\n",
       "       3.42837870e+03, 2.69975882e+03, 3.40441616e+03, 3.08890706e+03,\n",
       "       2.38181406e+03, 4.04802546e+03, 3.78740428e+03, 1.47766791e+03,\n",
       "       2.97970593e+03, 1.60856654e+03, 2.72294238e+03, 2.52502567e+03,\n",
       "       2.47910599e+03, 1.17758954e+03, 4.26852237e+03, 3.01881695e+03,\n",
       "       7.80500000e+03, 3.36261445e+03, 2.68932317e+03, 2.16631383e+03,\n",
       "       3.47018160e+03, 2.06532383e+03, 9.83955000e+03, 1.99350457e+03,\n",
       "       3.91688063e+03, 1.16405190e+03, 2.89209738e+03, 1.08232208e+03,\n",
       "       1.62954071e+03, 1.69454597e+03, 5.16557964e+03, 3.82643282e+03,\n",
       "       3.22331140e+03, 3.82643282e+03, 2.86837510e+03, 1.96369273e+03,\n",
       "       3.55258043e+03, 1.80163142e+03, 3.13669650e+03, 3.80876842e+03,\n",
       "       2.94786842e+03, 1.22441104e+03, 1.95473667e+03, 3.44394833e+03,\n",
       "       3.05860762e+03, 3.55258043e+03, 1.09517545e+03, 2.97970593e+03,\n",
       "       3.06332929e+03, 1.85213070e+03, 1.70968624e+03, 1.93848854e+03,\n",
       "       2.88766089e+03, 3.82541124e+03, 9.51498924e+02, 1.94423158e+03,\n",
       "       3.33335726e+03, 4.85214778e+03, 1.92453291e+03, 5.00931566e+03,\n",
       "       4.09956793e+03, 1.02820245e+03, 3.41016623e+03, 3.55258043e+03,\n",
       "       3.09834667e+03, 2.88918623e+03, 1.67230769e+03, 4.57611954e+03,\n",
       "       1.37003750e+03, 3.35828162e+03, 3.06173703e+03, 3.24009708e+03,\n",
       "       3.83070428e+03, 6.87472190e+03, 2.50966000e+03, 2.35065943e+03,\n",
       "       6.13411451e+03, 1.07188849e+03, 1.37210230e+03, 9.88579962e+02,\n",
       "       1.17036991e+03, 3.18698218e+03, 3.17051941e+03, 3.45708676e+03,\n",
       "       2.52502567e+03, 4.10726081e+03, 4.23880518e+03, 3.12600034e+03,\n",
       "       1.30502450e+03, 2.76647838e+03, 3.69279368e+03, 2.99992769e+03,\n",
       "       1.24976448e+03, 2.50327290e+03, 3.61192270e+03, 1.83235377e+03,\n",
       "       9.93324647e+02, 2.55990625e+03, 9.32506355e+02, 1.54202955e+03,\n",
       "       4.13932518e+03, 2.09172383e+03, 2.74666152e+03, 1.49400000e+03,\n",
       "       4.31763725e+03, 1.76705677e+03, 5.41162698e+03, 2.35417000e+03,\n",
       "       3.68951053e+03, 2.58050600e+03, 1.11288138e+03, 4.84382745e+03,\n",
       "       4.52847071e+03, 9.06962011e+02, 3.80876842e+03, 3.12944849e+03,\n",
       "       4.52847071e+03, 3.41138174e+03, 1.81391906e+03, 1.40003977e+03,\n",
       "       1.02534965e+03, 3.77357513e+03, 5.66000000e+03, 2.92761325e+03,\n",
       "       2.60822157e+03, 1.53874380e+03, 2.10858656e+03, 2.45334194e+03,\n",
       "       2.51940625e+03, 1.60223941e+03, 3.07215505e+03, 4.23966878e+03,\n",
       "       2.82539319e+03, 4.25646591e+03, 2.72240160e+03, 3.24639179e+03,\n",
       "       6.56786190e+03, 2.45334194e+03, 2.21345194e+03, 3.95938499e+03,\n",
       "       1.09517545e+03, 2.88596429e+03, 1.84005454e+03, 3.04418838e+03,\n",
       "       3.12923513e+03, 3.79140068e+03, 4.94759022e+03, 2.83002515e+03,\n",
       "       2.22500000e+03, 1.96806385e+03, 4.31763725e+03, 5.41162698e+03,\n",
       "       2.01656139e+03, 1.73502258e+03, 9.59564683e+02, 2.61708794e+03,\n",
       "       1.84320187e+06, 4.36141756e+03, 3.71056456e+03, 2.74766373e+03,\n",
       "       3.16651623e+03, 1.40233548e+03, 1.26475236e+03, 3.91641493e+03,\n",
       "       1.77145142e+03, 9.35231349e+02, 3.93133792e+03, 4.05102237e+03,\n",
       "       9.06962011e+02, 1.58543240e+03, 2.59096566e+03, 8.64122857e+03,\n",
       "       2.74600000e+03, 1.24976448e+03, 5.16495317e+03, 1.58908859e+03,\n",
       "       2.49489551e+03, 9.33725360e+02, 2.61590904e+03, 5.41162698e+03,\n",
       "       4.51782994e+03, 3.04830792e+03, 2.01771219e+03])"
      ]
     },
     "execution_count": 128,
     "metadata": {},
     "output_type": "execute_result"
    }
   ],
   "source": [
    "y_prd_rf"
   ]
  },
  {
   "cell_type": "code",
   "execution_count": 129,
   "metadata": {},
   "outputs": [],
   "source": [
    "y_prd_rf = pd.DataFrame(y_prd_rf)"
   ]
  },
  {
   "cell_type": "code",
   "execution_count": 138,
   "metadata": {},
   "outputs": [],
   "source": [
    "y_t['rd'] = y_prd_rf"
   ]
  },
  {
   "cell_type": "code",
   "execution_count": 141,
   "metadata": {},
   "outputs": [],
   "source": [
    "y_t['rd'] = y_t['rd'].astype('float32')"
   ]
  },
  {
   "cell_type": "code",
   "execution_count": 142,
   "metadata": {},
   "outputs": [
    {
     "data": {
      "text/html": [
       "<div>\n",
       "<style scoped>\n",
       "    .dataframe tbody tr th:only-of-type {\n",
       "        vertical-align: middle;\n",
       "    }\n",
       "\n",
       "    .dataframe tbody tr th {\n",
       "        vertical-align: top;\n",
       "    }\n",
       "\n",
       "    .dataframe thead th {\n",
       "        text-align: right;\n",
       "    }\n",
       "</style>\n",
       "<table border=\"1\" class=\"dataframe\">\n",
       "  <thead>\n",
       "    <tr style=\"text-align: right;\">\n",
       "      <th></th>\n",
       "      <th>price</th>\n",
       "      <th>pred</th>\n",
       "      <th>rd</th>\n",
       "    </tr>\n",
       "  </thead>\n",
       "  <tbody>\n",
       "    <tr>\n",
       "      <td>0</td>\n",
       "      <td>4160.00000</td>\n",
       "      <td>5383.058105</td>\n",
       "      <td>4286.012207</td>\n",
       "    </tr>\n",
       "    <tr>\n",
       "      <td>1</td>\n",
       "      <td>1950.00000</td>\n",
       "      <td>1775.280029</td>\n",
       "      <td>1924.532959</td>\n",
       "    </tr>\n",
       "    <tr>\n",
       "      <td>2</td>\n",
       "      <td>1670.00000</td>\n",
       "      <td>2548.778076</td>\n",
       "      <td>2313.585938</td>\n",
       "    </tr>\n",
       "    <tr>\n",
       "      <td>3</td>\n",
       "      <td>1229.63501</td>\n",
       "      <td>1694.227539</td>\n",
       "      <td>1619.151489</td>\n",
       "    </tr>\n",
       "    <tr>\n",
       "      <td>4</td>\n",
       "      <td>2900.00000</td>\n",
       "      <td>2827.780029</td>\n",
       "      <td>3348.480469</td>\n",
       "    </tr>\n",
       "    <tr>\n",
       "      <td>...</td>\n",
       "      <td>...</td>\n",
       "      <td>...</td>\n",
       "      <td>...</td>\n",
       "    </tr>\n",
       "    <tr>\n",
       "      <td>474</td>\n",
       "      <td>2300.00000</td>\n",
       "      <td>2214.525146</td>\n",
       "      <td>2615.908936</td>\n",
       "    </tr>\n",
       "    <tr>\n",
       "      <td>475</td>\n",
       "      <td>5500.00000</td>\n",
       "      <td>2537.100098</td>\n",
       "      <td>5411.626953</td>\n",
       "    </tr>\n",
       "    <tr>\n",
       "      <td>476</td>\n",
       "      <td>6100.00000</td>\n",
       "      <td>4243.209961</td>\n",
       "      <td>4517.830078</td>\n",
       "    </tr>\n",
       "    <tr>\n",
       "      <td>477</td>\n",
       "      <td>3100.00000</td>\n",
       "      <td>2326.880859</td>\n",
       "      <td>3048.307861</td>\n",
       "    </tr>\n",
       "    <tr>\n",
       "      <td>478</td>\n",
       "      <td>1900.00000</td>\n",
       "      <td>1875.207520</td>\n",
       "      <td>2017.712158</td>\n",
       "    </tr>\n",
       "  </tbody>\n",
       "</table>\n",
       "<p>479 rows × 3 columns</p>\n",
       "</div>"
      ],
      "text/plain": [
       "          price         pred           rd\n",
       "0    4160.00000  5383.058105  4286.012207\n",
       "1    1950.00000  1775.280029  1924.532959\n",
       "2    1670.00000  2548.778076  2313.585938\n",
       "3    1229.63501  1694.227539  1619.151489\n",
       "4    2900.00000  2827.780029  3348.480469\n",
       "..          ...          ...          ...\n",
       "474  2300.00000  2214.525146  2615.908936\n",
       "475  5500.00000  2537.100098  5411.626953\n",
       "476  6100.00000  4243.209961  4517.830078\n",
       "477  3100.00000  2326.880859  3048.307861\n",
       "478  1900.00000  1875.207520  2017.712158\n",
       "\n",
       "[479 rows x 3 columns]"
      ]
     },
     "execution_count": 142,
     "metadata": {},
     "output_type": "execute_result"
    }
   ],
   "source": [
    "y_t"
   ]
  },
  {
   "cell_type": "code",
   "execution_count": 150,
   "metadata": {},
   "outputs": [
    {
     "data": {
      "text/html": [
       "<div>\n",
       "<style scoped>\n",
       "    .dataframe tbody tr th:only-of-type {\n",
       "        vertical-align: middle;\n",
       "    }\n",
       "\n",
       "    .dataframe tbody tr th {\n",
       "        vertical-align: top;\n",
       "    }\n",
       "\n",
       "    .dataframe thead th {\n",
       "        text-align: right;\n",
       "    }\n",
       "</style>\n",
       "<table border=\"1\" class=\"dataframe\">\n",
       "  <thead>\n",
       "    <tr style=\"text-align: right;\">\n",
       "      <th></th>\n",
       "      <th>address</th>\n",
       "      <th>balcony_direction</th>\n",
       "      <th>bedroom</th>\n",
       "      <th>direction</th>\n",
       "      <th>furniture</th>\n",
       "      <th>investor</th>\n",
       "      <th>law_doc</th>\n",
       "      <th>name</th>\n",
       "      <th>price</th>\n",
       "      <th>project</th>\n",
       "      <th>square</th>\n",
       "      <th>time</th>\n",
       "      <th>toilet</th>\n",
       "      <th>types</th>\n",
       "    </tr>\n",
       "  </thead>\n",
       "  <tbody>\n",
       "    <tr>\n",
       "      <td>count</td>\n",
       "      <td>14598</td>\n",
       "      <td>8262</td>\n",
       "      <td>13449</td>\n",
       "      <td>7362</td>\n",
       "      <td>8539</td>\n",
       "      <td>12439</td>\n",
       "      <td>4858</td>\n",
       "      <td>14598</td>\n",
       "      <td>14598</td>\n",
       "      <td>14598</td>\n",
       "      <td>14132</td>\n",
       "      <td>14598</td>\n",
       "      <td>11020</td>\n",
       "      <td>14598</td>\n",
       "    </tr>\n",
       "    <tr>\n",
       "      <td>unique</td>\n",
       "      <td>2582</td>\n",
       "      <td>8</td>\n",
       "      <td>11</td>\n",
       "      <td>8</td>\n",
       "      <td>4847</td>\n",
       "      <td>239</td>\n",
       "      <td>697</td>\n",
       "      <td>14129</td>\n",
       "      <td>1007</td>\n",
       "      <td>558</td>\n",
       "      <td>1292</td>\n",
       "      <td>102</td>\n",
       "      <td>9</td>\n",
       "      <td>1</td>\n",
       "    </tr>\n",
       "    <tr>\n",
       "      <td>top</td>\n",
       "      <td>Dự án Vinhomes Ocean Park Gia Lâm, Xã Dương Xá...</td>\n",
       "      <td>Đông-Nam</td>\n",
       "      <td>2 PN</td>\n",
       "      <td>Tây-Bắc</td>\n",
       "      <td>Full nội thất.</td>\n",
       "      <td>Tập đoàn Vingroup</td>\n",
       "      <td>Sổ đỏ.</td>\n",
       "      <td>Chính chủ bán gấp! Căn góc 110m2, 3PN, 2WC tạ...</td>\n",
       "      <td>Thỏa thuận</td>\n",
       "      <td>Goldmark City</td>\n",
       "      <td>70 m²</td>\n",
       "      <td>28/09/2020</td>\n",
       "      <td>2 (phòng)</td>\n",
       "      <td>Bán căn hộ chung cư</td>\n",
       "    </tr>\n",
       "    <tr>\n",
       "      <td>freq</td>\n",
       "      <td>244</td>\n",
       "      <td>2930</td>\n",
       "      <td>6701</td>\n",
       "      <td>1754</td>\n",
       "      <td>335</td>\n",
       "      <td>1704</td>\n",
       "      <td>408</td>\n",
       "      <td>10</td>\n",
       "      <td>1947</td>\n",
       "      <td>368</td>\n",
       "      <td>363</td>\n",
       "      <td>2360</td>\n",
       "      <td>9181</td>\n",
       "      <td>14598</td>\n",
       "    </tr>\n",
       "  </tbody>\n",
       "</table>\n",
       "</div>"
      ],
      "text/plain": [
       "                                                  address balcony_direction  \\\n",
       "count                                               14598              8262   \n",
       "unique                                               2582                 8   \n",
       "top     Dự án Vinhomes Ocean Park Gia Lâm, Xã Dương Xá...          Đông-Nam   \n",
       "freq                                                  244              2930   \n",
       "\n",
       "       bedroom direction       furniture           investor law_doc  \\\n",
       "count    13449      7362            8539              12439    4858   \n",
       "unique      11         8            4847                239     697   \n",
       "top       2 PN   Tây-Bắc  Full nội thất.  Tập đoàn Vingroup  Sổ đỏ.   \n",
       "freq      6701      1754             335               1704     408   \n",
       "\n",
       "                                                     name       price  \\\n",
       "count                                               14598       14598   \n",
       "unique                                              14129        1007   \n",
       "top      Chính chủ bán gấp! Căn góc 110m2, 3PN, 2WC tạ...  Thỏa thuận   \n",
       "freq                                                   10        1947   \n",
       "\n",
       "              project square        time     toilet                types  \n",
       "count           14598  14132       14598      11020                14598  \n",
       "unique            558   1292         102          9                    1  \n",
       "top     Goldmark City  70 m²  28/09/2020  2 (phòng)  Bán căn hộ chung cư  \n",
       "freq              368    363        2360       9181                14598  "
      ]
     },
     "execution_count": 150,
     "metadata": {},
     "output_type": "execute_result"
    }
   ],
   "source": [
    "df.describe(include = 'all')"
   ]
  },
  {
   "cell_type": "code",
   "execution_count": null,
   "metadata": {},
   "outputs": [],
   "source": []
  }
 ],
 "metadata": {
  "kernelspec": {
   "display_name": "Python 3",
   "language": "python",
   "name": "python3"
  },
  "language_info": {
   "codemirror_mode": {
    "name": "ipython",
    "version": 3
   },
   "file_extension": ".py",
   "mimetype": "text/x-python",
   "name": "python",
   "nbconvert_exporter": "python",
   "pygments_lexer": "ipython3",
   "version": "3.7.4"
  }
 },
 "nbformat": 4,
 "nbformat_minor": 2
}
